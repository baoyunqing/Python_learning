{
 "cells": [
  {
   "cell_type": "markdown",
   "metadata": {},
   "source": [
    "---\n",
    "# Python 人工智能入门 毕业项目\n",
    "\n",
    "# 利用机器学习模型预测股票走势\n",
    "\n",
    "## Yunqing Bao\n",
    "## 2019年6月30日\n",
    "---\n"
   ]
  },
  {
   "cell_type": "markdown",
   "metadata": {},
   "source": [
    "## 目录\n",
    "<ul>\n",
    "<li><a href=\"#definition\">定义</a></li>\n",
    "<li><a href=\"#analysis\">分析</a></li>\n",
    "<li><a href=\"#implementation\">实现</a></li>\n",
    "<li><a href=\"#result\">结果</a></li>\n",
    "<li><a href=\"#conclusion\">结论</a></li>   \n",
    "</ul>\n",
    "\n"
   ]
  },
  {
   "cell_type": "markdown",
   "metadata": {},
   "source": [
    "---\n",
    "<a id=\"definition\"></a>\n",
    "## Ⅰ.定义\n",
    "\n",
    "在第一节中，你需要对你选定的问题作出定义\n",
    "\n",
    "### 1.项目概况\n",
    "\n",
    "在这个部分，你需要用浅显简洁的语句描述这个项目的一个总体概况。以下几个问题可以帮助你理清思路：\n",
    "\n",
    "- _项目的背景信息是什么？_\n",
    "- _做这个项目的出发点？_\n",
    "- _数据集的大概情况是什么？_\n",
    "\n",
    "### 2.问题陈述\n",
    "\n",
    "在这个部分，你需要清楚地为你将要解决的问题下定义，这应该包括你解决问题将要使用的策略（任务的大纲）。你同时要详尽地讨论你期望的结果是怎样的。有几个问题是需要考虑的：\n",
    "- _你是否清楚地定义了这个问题。站在读者的角度，他们能否明白你将要解决的问题是什么。_\n",
    "- _你是否详尽地阐述了你将会如何解决这个问题？_\n",
    "- _你期望什么样的结果，读者能明白你期望的这个结果吗？_\n",
    "\n",
    "### 3.评价指标\n",
    "在这里，你需要说明你将要用于评价自己的模型和结果的**指标**和**计算方法**。它们需要契合你所选问题的特点及其所在的领域，同时，你要保证他们的合理性。需要考虑的问题：\n",
    "- _你是否清晰地定义了你所使用的指标和计算方法？_\n",
    "- _你是否论述了这些指标和计算方法的合理性？_"
   ]
  },
  {
   "attachments": {},
   "cell_type": "markdown",
   "metadata": {},
   "source": [
    "我们获取了一定时间内的股票大盘数据。 \n",
    "通过这些大盘数据，我们希望预测一支股票的走势。\n",
    "根据其过去的涨跌走势，预测出其未来的涨跌走势情况。\n",
    "\n",
    "数据集中包含了交易的日期、当天的最高与最低指数，收盘指数和每天的交易额\n",
    "数据集中还包含了CHG与CHGpct指数（显示每天股表指数的涨跌和相应的百分比）\n",
    "\n",
    "通过这些数据，我希望能够做到预测一段时间内股票的走势，股票指数所能达到的最高点与最低点。\n",
    "读者们为了利益的最大化，将会被期望在预测指数最低点当天买入，在预测指数最高点当天卖出。\n",
    "\n",
    "为了评价预测模型的结果好坏，我们将一部分的数据集当作训练集，另一部分的数据集当作测试集。\n",
    "将从训练集中得到的预测模型放入测试集中进行检验，使用线性回归的方法进行预测。\n",
    "p值可以体现变量的影响程度，p值很接近于，说明变量对预测量有较大的线性关系影响。\n",
    "\n",
    "MSE，为预测值和测试值之间的平均误差的方差，MSE越小，说明模型预测的贴近实际值。\n",
    "R2，为决定系数，表示了拟合程度的好坏。越接近1，表明方程的变量对y的解释能力越强，这个模型对数据拟合的也较好\n",
    "越接近0，表明模型拟合的越差。经验值：R2>0.4， 则拟合效果好\n",
    "\n"
   ]
  },
  {
   "cell_type": "markdown",
   "metadata": {},
   "source": [
    "---\n",
    "<a id=\"analysis\"></a>\n",
    "## Ⅱ.分析\n",
    "\n",
    "在第二节，你将对数据进行分析与整理，来进一步认识数据。\n",
    "\n",
    "### 1.数据的探索\n",
    "在这一部分，你需要探索你将要使用的数据。数据可以是若干个数据集，或者输入数据/文件，甚至可以是一个设定环境。不过在本项目中，我们已经给出了数据集，因此，你需要详尽地描述数据的类型。如果可以的话，你需要展示数据的一些统计量和基本信息（例如输入的特征（features)，输入里与定义相关的特性）。你还要说明数据中的任何需要被关注的异常或有趣的性质（例如需要做变换的特征，离群值等等）。你需要考虑：\n",
    "- _如果你使用了数据集，你要详尽地讨论了你所使用数据集的某些特征，并且为阅读者呈现一个直观的样本_\n",
    "- _如果你使用了数据集，你要计算并描述了它们的统计量，并对其中与你问题相关的地方进行讨论_\n",
    "- _数据集或输入中是否存在异常、缺陷或其他特性？你为什么认为他们是异常？给出佐证你观点的理由(例如分类变量的处理，缺失数据，离群值等）_\n",
    "\n",
    "### 2.探索性可视化\n",
    "在这一部分，你需要对数据的特征或特性进行概括性或提取性的可视化。这个可视化的过程应该要适应你所使用的数据。就你为何使用这个形式的可视化，以及这个可视化过程为什么是有意义的，进行一定的讨论。你需要考虑的问题：\n",
    "- _你是否对数据中与问题有关的特性进行了可视化？_\n",
    "- _你对可视化结果进行详尽的分析和讨论了吗？_\n",
    "- _绘图的坐标轴，标题，基准面是不是清晰定义了？_\n",
    "\n",
    "### 3.算法和技术\n",
    "在这一部分，你需要讨论你解决问题时用到的算法和技术。你需要根据问题的特性和所属领域来论述使用这些方法的合理性。你需要考虑：\n",
    "- _你所使用的算法，包括用到的变量/参数都清晰地说明了吗？_\n",
    "- _你是否已经详尽地描述并讨论了使用这些技术的合理性？_"
   ]
  },
  {
   "cell_type": "markdown",
   "metadata": {},
   "source": [
    "> **提示**：*不应* 在每个 notebook 框 (cell) 中进行太多操作。可以自由创建框，来进行数据探索。在这个项目中，可以在初始 notebook 中进行大量探索性操作。不要求对其进行组织，但请务必仔细阅读备注，理解每个代码框的用途。完成分析之后，你可以创建 notebook 副本，在其中去除多余数据，组织好你的每一步分析，从而形成信息连贯、结构紧密的报告。"
   ]
  },
  {
   "cell_type": "code",
   "execution_count": 287,
   "metadata": {},
   "outputs": [
    {
     "data": {
      "text/html": [
       "<div>\n",
       "<style scoped>\n",
       "    .dataframe tbody tr th:only-of-type {\n",
       "        vertical-align: middle;\n",
       "    }\n",
       "\n",
       "    .dataframe tbody tr th {\n",
       "        vertical-align: top;\n",
       "    }\n",
       "\n",
       "    .dataframe thead th {\n",
       "        text-align: right;\n",
       "    }\n",
       "</style>\n",
       "<table border=\"1\" class=\"dataframe\">\n",
       "  <thead>\n",
       "    <tr style=\"text-align: right;\">\n",
       "      <th></th>\n",
       "      <th>tradeDate</th>\n",
       "      <th>closeIndex</th>\n",
       "      <th>highestIndex</th>\n",
       "      <th>lowestIndex</th>\n",
       "      <th>turnoverVol</th>\n",
       "      <th>CHG</th>\n",
       "      <th>CHGPct</th>\n",
       "    </tr>\n",
       "  </thead>\n",
       "  <tbody>\n",
       "    <tr>\n",
       "      <th>0</th>\n",
       "      <td>2006-03-01</td>\n",
       "      <td>1056.62</td>\n",
       "      <td>1057.69</td>\n",
       "      <td>1049.64</td>\n",
       "      <td>1942573000</td>\n",
       "      <td>3.61</td>\n",
       "      <td>0.003428</td>\n",
       "    </tr>\n",
       "    <tr>\n",
       "      <th>1</th>\n",
       "      <td>2006-03-02</td>\n",
       "      <td>1038.67</td>\n",
       "      <td>1056.05</td>\n",
       "      <td>1034.68</td>\n",
       "      <td>2487786100</td>\n",
       "      <td>-17.95</td>\n",
       "      <td>-0.016988</td>\n",
       "    </tr>\n",
       "    <tr>\n",
       "      <th>2</th>\n",
       "      <td>2006-03-03</td>\n",
       "      <td>1041.68</td>\n",
       "      <td>1043.42</td>\n",
       "      <td>1029.56</td>\n",
       "      <td>2120053900</td>\n",
       "      <td>3.01</td>\n",
       "      <td>0.002898</td>\n",
       "    </tr>\n",
       "    <tr>\n",
       "      <th>3</th>\n",
       "      <td>2006-03-06</td>\n",
       "      <td>1038.87</td>\n",
       "      <td>1044.42</td>\n",
       "      <td>1036.11</td>\n",
       "      <td>1787096300</td>\n",
       "      <td>-2.81</td>\n",
       "      <td>-0.002698</td>\n",
       "    </tr>\n",
       "    <tr>\n",
       "      <th>4</th>\n",
       "      <td>2006-03-07</td>\n",
       "      <td>1014.97</td>\n",
       "      <td>1037.98</td>\n",
       "      <td>1013.14</td>\n",
       "      <td>1933651600</td>\n",
       "      <td>-23.90</td>\n",
       "      <td>-0.023006</td>\n",
       "    </tr>\n",
       "  </tbody>\n",
       "</table>\n",
       "</div>"
      ],
      "text/plain": [
       "    tradeDate  closeIndex  highestIndex  lowestIndex  turnoverVol    CHG  \\\n",
       "0  2006-03-01     1056.62       1057.69      1049.64   1942573000   3.61   \n",
       "1  2006-03-02     1038.67       1056.05      1034.68   2487786100 -17.95   \n",
       "2  2006-03-03     1041.68       1043.42      1029.56   2120053900   3.01   \n",
       "3  2006-03-06     1038.87       1044.42      1036.11   1787096300  -2.81   \n",
       "4  2006-03-07     1014.97       1037.98      1013.14   1933651600 -23.90   \n",
       "\n",
       "     CHGPct  \n",
       "0  0.003428  \n",
       "1 -0.016988  \n",
       "2  0.002898  \n",
       "3 -0.002698  \n",
       "4 -0.023006  "
      ]
     },
     "execution_count": 287,
     "metadata": {},
     "output_type": "execute_result"
    }
   ],
   "source": [
    "import numpy as np\n",
    "import pandas as pd\n",
    "import statsmodels.api as sm\n",
    "from sklearn.linear_model import LinearRegression\n",
    "from sklearn.preprocessing import StandardScaler\n",
    "from patsy import dmatrices\n",
    "import matplotlib.pyplot as plt\n",
    "from sklearn.linear_model import LogisticRegression\n",
    "from sklearn import preprocessing, svm\n",
    "from sklearn.metrics import mean_squared_error, r2_score\n",
    "import math\n",
    "import seaborn as sns\n",
    "%matplotlib inline\n",
    "\n",
    "df = pd.read_csv('data.csv',index_col= 0)\n",
    "df.head()"
   ]
  },
  {
   "cell_type": "code",
   "execution_count": 288,
   "metadata": {},
   "outputs": [
    {
     "data": {
      "text/html": [
       "<div>\n",
       "<style scoped>\n",
       "    .dataframe tbody tr th:only-of-type {\n",
       "        vertical-align: middle;\n",
       "    }\n",
       "\n",
       "    .dataframe tbody tr th {\n",
       "        vertical-align: top;\n",
       "    }\n",
       "\n",
       "    .dataframe thead th {\n",
       "        text-align: right;\n",
       "    }\n",
       "</style>\n",
       "<table border=\"1\" class=\"dataframe\">\n",
       "  <thead>\n",
       "    <tr style=\"text-align: right;\">\n",
       "      <th></th>\n",
       "      <th>closeIndex</th>\n",
       "      <th>highestIndex</th>\n",
       "      <th>lowestIndex</th>\n",
       "      <th>turnoverVol</th>\n",
       "      <th>CHG</th>\n",
       "      <th>CHGPct</th>\n",
       "    </tr>\n",
       "  </thead>\n",
       "  <tbody>\n",
       "    <tr>\n",
       "      <th>closeIndex</th>\n",
       "      <td>1.000000</td>\n",
       "      <td>0.999167</td>\n",
       "      <td>0.999206</td>\n",
       "      <td>0.152082</td>\n",
       "      <td>0.021975</td>\n",
       "      <td>0.008433</td>\n",
       "    </tr>\n",
       "    <tr>\n",
       "      <th>highestIndex</th>\n",
       "      <td>0.999167</td>\n",
       "      <td>1.000000</td>\n",
       "      <td>0.998993</td>\n",
       "      <td>0.152739</td>\n",
       "      <td>-0.010796</td>\n",
       "      <td>-0.021710</td>\n",
       "    </tr>\n",
       "    <tr>\n",
       "      <th>lowestIndex</th>\n",
       "      <td>0.999206</td>\n",
       "      <td>0.998993</td>\n",
       "      <td>1.000000</td>\n",
       "      <td>0.147516</td>\n",
       "      <td>-0.003346</td>\n",
       "      <td>-0.016771</td>\n",
       "    </tr>\n",
       "    <tr>\n",
       "      <th>turnoverVol</th>\n",
       "      <td>0.152082</td>\n",
       "      <td>0.152739</td>\n",
       "      <td>0.147516</td>\n",
       "      <td>1.000000</td>\n",
       "      <td>0.103710</td>\n",
       "      <td>0.109801</td>\n",
       "    </tr>\n",
       "    <tr>\n",
       "      <th>CHG</th>\n",
       "      <td>0.021975</td>\n",
       "      <td>-0.010796</td>\n",
       "      <td>-0.003346</td>\n",
       "      <td>0.103710</td>\n",
       "      <td>1.000000</td>\n",
       "      <td>0.950750</td>\n",
       "    </tr>\n",
       "    <tr>\n",
       "      <th>CHGPct</th>\n",
       "      <td>0.008433</td>\n",
       "      <td>-0.021710</td>\n",
       "      <td>-0.016771</td>\n",
       "      <td>0.109801</td>\n",
       "      <td>0.950750</td>\n",
       "      <td>1.000000</td>\n",
       "    </tr>\n",
       "  </tbody>\n",
       "</table>\n",
       "</div>"
      ],
      "text/plain": [
       "              closeIndex  highestIndex  lowestIndex  turnoverVol       CHG  \\\n",
       "closeIndex      1.000000      0.999167     0.999206     0.152082  0.021975   \n",
       "highestIndex    0.999167      1.000000     0.998993     0.152739 -0.010796   \n",
       "lowestIndex     0.999206      0.998993     1.000000     0.147516 -0.003346   \n",
       "turnoverVol     0.152082      0.152739     0.147516     1.000000  0.103710   \n",
       "CHG             0.021975     -0.010796    -0.003346     0.103710  1.000000   \n",
       "CHGPct          0.008433     -0.021710    -0.016771     0.109801  0.950750   \n",
       "\n",
       "                CHGPct  \n",
       "closeIndex    0.008433  \n",
       "highestIndex -0.021710  \n",
       "lowestIndex  -0.016771  \n",
       "turnoverVol   0.109801  \n",
       "CHG           0.950750  \n",
       "CHGPct        1.000000  "
      ]
     },
     "execution_count": 288,
     "metadata": {},
     "output_type": "execute_result"
    }
   ],
   "source": [
    "df.corr()"
   ]
  },
  {
   "cell_type": "code",
   "execution_count": 289,
   "metadata": {},
   "outputs": [
    {
     "data": {
      "text/html": [
       "<div>\n",
       "<style scoped>\n",
       "    .dataframe tbody tr th:only-of-type {\n",
       "        vertical-align: middle;\n",
       "    }\n",
       "\n",
       "    .dataframe tbody tr th {\n",
       "        vertical-align: top;\n",
       "    }\n",
       "\n",
       "    .dataframe thead th {\n",
       "        text-align: right;\n",
       "    }\n",
       "</style>\n",
       "<table border=\"1\" class=\"dataframe\">\n",
       "  <thead>\n",
       "    <tr style=\"text-align: right;\">\n",
       "      <th></th>\n",
       "      <th>closeIndex</th>\n",
       "      <th>highestIndex</th>\n",
       "      <th>lowestIndex</th>\n",
       "      <th>turnoverVol</th>\n",
       "      <th>CHG</th>\n",
       "      <th>CHGPct</th>\n",
       "    </tr>\n",
       "  </thead>\n",
       "  <tbody>\n",
       "    <tr>\n",
       "      <th>count</th>\n",
       "      <td>2187.000000</td>\n",
       "      <td>2187.000000</td>\n",
       "      <td>2187.000000</td>\n",
       "      <td>2.187000e+03</td>\n",
       "      <td>2187.000000</td>\n",
       "      <td>2187.000000</td>\n",
       "    </tr>\n",
       "    <tr>\n",
       "      <th>mean</th>\n",
       "      <td>2787.469758</td>\n",
       "      <td>2816.014321</td>\n",
       "      <td>2752.490402</td>\n",
       "      <td>6.939017e+09</td>\n",
       "      <td>1.152186</td>\n",
       "      <td>0.000732</td>\n",
       "    </tr>\n",
       "    <tr>\n",
       "      <th>std</th>\n",
       "      <td>897.538722</td>\n",
       "      <td>910.123885</td>\n",
       "      <td>881.555628</td>\n",
       "      <td>5.389863e+09</td>\n",
       "      <td>58.216027</td>\n",
       "      <td>0.018595</td>\n",
       "    </tr>\n",
       "    <tr>\n",
       "      <th>min</th>\n",
       "      <td>1004.340000</td>\n",
       "      <td>1010.910000</td>\n",
       "      <td>999.930000</td>\n",
       "      <td>1.134803e+09</td>\n",
       "      <td>-391.860000</td>\n",
       "      <td>-0.092400</td>\n",
       "    </tr>\n",
       "    <tr>\n",
       "      <th>25%</th>\n",
       "      <td>2287.135000</td>\n",
       "      <td>2307.990000</td>\n",
       "      <td>2259.585000</td>\n",
       "      <td>3.998628e+09</td>\n",
       "      <td>-21.330000</td>\n",
       "      <td>-0.008226</td>\n",
       "    </tr>\n",
       "    <tr>\n",
       "      <th>50%</th>\n",
       "      <td>2608.570000</td>\n",
       "      <td>2628.700000</td>\n",
       "      <td>2584.760000</td>\n",
       "      <td>5.794680e+09</td>\n",
       "      <td>2.900000</td>\n",
       "      <td>0.001100</td>\n",
       "    </tr>\n",
       "    <tr>\n",
       "      <th>75%</th>\n",
       "      <td>3222.340000</td>\n",
       "      <td>3253.935000</td>\n",
       "      <td>3178.845000</td>\n",
       "      <td>8.159082e+09</td>\n",
       "      <td>27.075000</td>\n",
       "      <td>0.010603</td>\n",
       "    </tr>\n",
       "    <tr>\n",
       "      <th>max</th>\n",
       "      <td>5877.200000</td>\n",
       "      <td>5891.720000</td>\n",
       "      <td>5815.610000</td>\n",
       "      <td>6.328746e+10</td>\n",
       "      <td>378.180000</td>\n",
       "      <td>0.093418</td>\n",
       "    </tr>\n",
       "  </tbody>\n",
       "</table>\n",
       "</div>"
      ],
      "text/plain": [
       "        closeIndex  highestIndex  lowestIndex   turnoverVol          CHG  \\\n",
       "count  2187.000000   2187.000000  2187.000000  2.187000e+03  2187.000000   \n",
       "mean   2787.469758   2816.014321  2752.490402  6.939017e+09     1.152186   \n",
       "std     897.538722    910.123885   881.555628  5.389863e+09    58.216027   \n",
       "min    1004.340000   1010.910000   999.930000  1.134803e+09  -391.860000   \n",
       "25%    2287.135000   2307.990000  2259.585000  3.998628e+09   -21.330000   \n",
       "50%    2608.570000   2628.700000  2584.760000  5.794680e+09     2.900000   \n",
       "75%    3222.340000   3253.935000  3178.845000  8.159082e+09    27.075000   \n",
       "max    5877.200000   5891.720000  5815.610000  6.328746e+10   378.180000   \n",
       "\n",
       "            CHGPct  \n",
       "count  2187.000000  \n",
       "mean      0.000732  \n",
       "std       0.018595  \n",
       "min      -0.092400  \n",
       "25%      -0.008226  \n",
       "50%       0.001100  \n",
       "75%       0.010603  \n",
       "max       0.093418  "
      ]
     },
     "execution_count": 289,
     "metadata": {},
     "output_type": "execute_result"
    }
   ],
   "source": [
    "df.describe()"
   ]
  },
  {
   "cell_type": "markdown",
   "metadata": {},
   "source": [
    "**(你的回答)**\n",
    "一共有2187组数据，没有缺失值。\n",
    "tradeDate表示交易的日期。\n",
    "closeindex表示每日的收盘指数。\n",
    "highestindex和lowestindex表示每日的最高和最低股票指数。\n",
    "turnoverVol表示每天的交易额。\n",
    "CHG和CHGPct表示每天股票指数的涨跌幅度和相应的百分比。\n",
    "\n",
    "CHG的平均值为1.152,表示从2006年至2015年2月股票指数总体上涨\n",
    "CHG的标准差值比较大，表示股票指数的波动性较强。\n"
   ]
  },
  {
   "cell_type": "code",
   "execution_count": 290,
   "metadata": {},
   "outputs": [
    {
     "data": {
      "text/plain": [
       "<matplotlib.axes._subplots.AxesSubplot at 0x7f0fd81c0d68>"
      ]
     },
     "execution_count": 290,
     "metadata": {},
     "output_type": "execute_result"
    },
    {
     "data": {
      "image/png": "[encoded data removed]",
      "text/plain": [
       "<Figure size 432x288 with 1 Axes>"
      ]
     },
     "metadata": {
      "needs_background": "light"
     },
     "output_type": "display_data"
    }
   ],
   "source": [
    "df.plot(x = 'tradeDate',y = 'CHG')"
   ]
  },
  {
   "cell_type": "code",
   "execution_count": 291,
   "metadata": {},
   "outputs": [
    {
     "data": {
      "text/plain": [
       "<matplotlib.axes._subplots.AxesSubplot at 0x7f0fd796d320>"
      ]
     },
     "execution_count": 291,
     "metadata": {},
     "output_type": "execute_result"
    },
    {
     "data": {
      "image/png": "[encoded data removed]",
      "text/plain": [
       "<Figure size 432x288 with 1 Axes>"
      ]
     },
     "metadata": {
      "needs_background": "light"
     },
     "output_type": "display_data"
    }
   ],
   "source": [
    "df.plot(x = 'tradeDate',y = 'closeIndex')"
   ]
  },
  {
   "cell_type": "code",
   "execution_count": 292,
   "metadata": {},
   "outputs": [
    {
     "data": {
      "text/plain": [
       "<matplotlib.legend.Legend at 0x7f0fd77547b8>"
      ]
     },
     "execution_count": 292,
     "metadata": {},
     "output_type": "execute_result"
    },
    {
     "data": {
      "image/png": "[encoded data removed]",
      "text/plain": [
       "<Figure size 432x288 with 1 Axes>"
      ]
     },
     "metadata": {
      "needs_background": "light"
     },
     "output_type": "display_data"
    }
   ],
   "source": [
    "plt.plot(df['highestIndex'],color='blue',label = 'highestIndex')\n",
    "plt.plot(df['lowestIndex'],color='red', label = 'lowestIndex')\n",
    "plt.plot(df['closeIndex'],color='green', label = 'closeIndex')\n",
    "plt.legend()"
   ]
  },
  {
   "cell_type": "code",
   "execution_count": 293,
   "metadata": {},
   "outputs": [
    {
     "data": {
      "text/html": [
       "<div>\n",
       "<style scoped>\n",
       "    .dataframe tbody tr th:only-of-type {\n",
       "        vertical-align: middle;\n",
       "    }\n",
       "\n",
       "    .dataframe tbody tr th {\n",
       "        vertical-align: top;\n",
       "    }\n",
       "\n",
       "    .dataframe thead th {\n",
       "        text-align: right;\n",
       "    }\n",
       "</style>\n",
       "<table border=\"1\" class=\"dataframe\">\n",
       "  <thead>\n",
       "    <tr style=\"text-align: right;\">\n",
       "      <th></th>\n",
       "      <th>VIF Factor</th>\n",
       "      <th>features</th>\n",
       "    </tr>\n",
       "  </thead>\n",
       "  <tbody>\n",
       "    <tr>\n",
       "      <th>0</th>\n",
       "      <td>11.894647</td>\n",
       "      <td>Intercept</td>\n",
       "    </tr>\n",
       "    <tr>\n",
       "      <th>1</th>\n",
       "      <td>504.235874</td>\n",
       "      <td>highestIndex</td>\n",
       "    </tr>\n",
       "    <tr>\n",
       "      <th>2</th>\n",
       "      <td>503.427579</td>\n",
       "      <td>lowestIndex</td>\n",
       "    </tr>\n",
       "    <tr>\n",
       "      <th>3</th>\n",
       "      <td>1.037446</td>\n",
       "      <td>turnoverVol</td>\n",
       "    </tr>\n",
       "  </tbody>\n",
       "</table>\n",
       "</div>"
      ],
      "text/plain": [
       "   VIF Factor      features\n",
       "0   11.894647     Intercept\n",
       "1  504.235874  highestIndex\n",
       "2  503.427579   lowestIndex\n",
       "3    1.037446   turnoverVol"
      ]
     },
     "execution_count": 293,
     "metadata": {},
     "output_type": "execute_result"
    }
   ],
   "source": [
    "y, X = dmatrices('closeIndex ~ highestIndex + lowestIndex + turnoverVol',df,return_type = 'dataframe' )\n",
    "\n",
    "vif = pd.DataFrame()\n",
    "vif[\"VIF Factor\"] = [variance_inflation_factor(X.values, i) for i in range(X.shape[1])]\n",
    "vif[\"features\"] = X.columns\n",
    "vif"
   ]
  },
  {
   "cell_type": "code",
   "execution_count": 294,
   "metadata": {},
   "outputs": [
    {
     "data": {
      "text/html": [
       "<div>\n",
       "<style scoped>\n",
       "    .dataframe tbody tr th:only-of-type {\n",
       "        vertical-align: middle;\n",
       "    }\n",
       "\n",
       "    .dataframe tbody tr th {\n",
       "        vertical-align: top;\n",
       "    }\n",
       "\n",
       "    .dataframe thead th {\n",
       "        text-align: right;\n",
       "    }\n",
       "</style>\n",
       "<table border=\"1\" class=\"dataframe\">\n",
       "  <thead>\n",
       "    <tr style=\"text-align: right;\">\n",
       "      <th></th>\n",
       "      <th>VIF Factor</th>\n",
       "      <th>features</th>\n",
       "    </tr>\n",
       "  </thead>\n",
       "  <tbody>\n",
       "    <tr>\n",
       "      <th>0</th>\n",
       "      <td>11.257954</td>\n",
       "      <td>Intercept</td>\n",
       "    </tr>\n",
       "    <tr>\n",
       "      <th>1</th>\n",
       "      <td>1.023886</td>\n",
       "      <td>highestIndex</td>\n",
       "    </tr>\n",
       "    <tr>\n",
       "      <th>2</th>\n",
       "      <td>1.023886</td>\n",
       "      <td>turnoverVol</td>\n",
       "    </tr>\n",
       "  </tbody>\n",
       "</table>\n",
       "</div>"
      ],
      "text/plain": [
       "   VIF Factor      features\n",
       "0   11.257954     Intercept\n",
       "1    1.023886  highestIndex\n",
       "2    1.023886   turnoverVol"
      ]
     },
     "execution_count": 294,
     "metadata": {},
     "output_type": "execute_result"
    }
   ],
   "source": [
    "y, X = dmatrices('closeIndex ~ highestIndex + turnoverVol',df,return_type = 'dataframe' )\n",
    "\n",
    "vif = pd.DataFrame()\n",
    "vif[\"VIF Factor\"] = [variance_inflation_factor(X.values, i) for i in range(X.shape[1])]\n",
    "vif[\"features\"] = X.columns\n",
    "vif"
   ]
  },
  {
   "cell_type": "code",
   "execution_count": 295,
   "metadata": {},
   "outputs": [
    {
     "ename": "SyntaxError",
     "evalue": "invalid character in identifier (<ipython-input-295-3e601d1dc9f3>, line 1)",
     "output_type": "error",
     "traceback": [
      "\u001b[0;36m  File \u001b[0;32m\"<ipython-input-295-3e601d1dc9f3>\"\u001b[0;36m, line \u001b[0;32m1\u001b[0m\n\u001b[0;31m    从图中可以看出，股票的收盘指数和每天的最高指数、最低指数的变化趋势是一致的。\u001b[0m\n\u001b[0m                                         ^\u001b[0m\n\u001b[0;31mSyntaxError\u001b[0m\u001b[0;31m:\u001b[0m invalid character in identifier\n"
     ]
    }
   ],
   "source": [
    "从图中可以看出，股票的收盘指数和每天的最高指数、最低指数的变化趋势是一致的。\n",
    "从VIF系数看来，closeIndex、highestIndex与lowIndex之间存在多重共线性。去除一个lowestIndex后，VIF小于10，是合格的。\n",
    "在一天之内指数的变动程度要比股票指数随不同日期变化的程度小的多。\n",
    "从预测股票走势的角度来看，highestIndex,lowestIndex与closeIndex都可以作为预测的目标，他们都可以比较好的反应股票的走势。"
   ]
  },
  {
   "cell_type": "markdown",
   "metadata": {},
   "source": [
    "---\n",
    "<a id=\"implementation\"></a>\n",
    "## Ⅲ. 实现\n",
    "在第三节中，你需要引入自己选定的模型，并使用数据集中的数据去训练兵优化它，使得最终的模型能够得到想要的结果\n",
    "\n",
    "### 1.数据预处理\n",
    "在这一部分， 你需要清晰记录你所有必要的数据预处理步骤。在前一个部分所描述的数据的异常或特性在这一部分需要被更正和处理。需要考虑的问题有：\n",
    "- _如果你选择的算法需要进行特征选取或特征变换，你对此进行记录和描述了吗？_\n",
    "- _**数据的探索**这一部分中提及的异常和特性是否被更正了，对此进行记录和描述了吗？_\n",
    "- _如果你认为不需要进行预处理，你解释个中原因了吗？_\n",
    "\n",
    "### 2.执行过程\n",
    "在这一部分， 你需要描述你所建立的模型在给定数据上执行过程。模型的执行过程，以及过程中遇到的困难的描述应该清晰明了地记录和描述。需要考虑的问题：\n",
    "- _你所用到的算法和技术执行的方式是否清晰记录了？_\n",
    "- _在运用上面所提及的技术及指标的执行过程中是否遇到了困难，是否需要作出改动来得到想要的结果？_\n",
    "\n",
    "\n",
    "### 3.完善\n",
    "在这一部分，你需要描述你对原有的算法和技术完善的过程。例如调整模型的参数以达到更好的结果的过程应该有所记录。你需要记录最初和最终的模型，以及过程中有代表性意义的结果。你需要考虑的问题：\n",
    "- _初始结果是否清晰记录了？_\n",
    "- _完善的过程是否清晰记录了，其中使用了什么技术？_\n",
    "- _完善过程中的结果以及最终结果是否清晰记录了？_"
   ]
  },
  {
   "cell_type": "code",
   "execution_count": 296,
   "metadata": {},
   "outputs": [
    {
     "data": {
      "text/html": [
       "<table class=\"simpletable\">\n",
       "<caption>OLS Regression Results</caption>\n",
       "<tr>\n",
       "  <th>Dep. Variable:</th>       <td>closeIndex</td>    <th>  R-squared:         </th> <td>   0.002</td> \n",
       "</tr>\n",
       "<tr>\n",
       "  <th>Model:</th>                   <td>OLS</td>       <th>  Adj. R-squared:    </th> <td>   0.001</td> \n",
       "</tr>\n",
       "<tr>\n",
       "  <th>Method:</th>             <td>Least Squares</td>  <th>  F-statistic:       </th> <td>   2.297</td> \n",
       "</tr>\n",
       "<tr>\n",
       "  <th>Date:</th>             <td>Wed, 24 Jul 2019</td> <th>  Prob (F-statistic):</th>  <td> 0.101</td>  \n",
       "</tr>\n",
       "<tr>\n",
       "  <th>Time:</th>                 <td>00:32:40</td>     <th>  Log-Likelihood:    </th> <td> -17971.</td> \n",
       "</tr>\n",
       "<tr>\n",
       "  <th>No. Observations:</th>      <td>  2187</td>      <th>  AIC:               </th> <td>3.595e+04</td>\n",
       "</tr>\n",
       "<tr>\n",
       "  <th>Df Residuals:</th>          <td>  2184</td>      <th>  BIC:               </th> <td>3.597e+04</td>\n",
       "</tr>\n",
       "<tr>\n",
       "  <th>Df Model:</th>              <td>     2</td>      <th>                     </th>     <td> </td>    \n",
       "</tr>\n",
       "<tr>\n",
       "  <th>Covariance Type:</th>      <td>nonrobust</td>    <th>                     </th>     <td> </td>    \n",
       "</tr>\n",
       "</table>\n",
       "<table class=\"simpletable\">\n",
       "<tr>\n",
       "      <td></td>         <th>coef</th>     <th>std err</th>      <th>t</th>      <th>P>|t|</th>  <th>[0.025</th>    <th>0.975]</th>  \n",
       "</tr>\n",
       "<tr>\n",
       "  <th>intercept</th> <td> 2789.4726</td> <td>   19.227</td> <td>  145.082</td> <td> 0.000</td> <td> 2751.768</td> <td> 2827.178</td>\n",
       "</tr>\n",
       "<tr>\n",
       "  <th>CHG</th>       <td>    2.2397</td> <td>    1.063</td> <td>    2.107</td> <td> 0.035</td> <td>    0.155</td> <td>    4.325</td>\n",
       "</tr>\n",
       "<tr>\n",
       "  <th>CHGPct</th>    <td>-6259.6110</td> <td> 3328.724</td> <td>   -1.880</td> <td> 0.060</td> <td>-1.28e+04</td> <td>  268.185</td>\n",
       "</tr>\n",
       "</table>\n",
       "<table class=\"simpletable\">\n",
       "<tr>\n",
       "  <th>Omnibus:</th>       <td>311.886</td> <th>  Durbin-Watson:     </th> <td>   0.005</td> \n",
       "</tr>\n",
       "<tr>\n",
       "  <th>Prob(Omnibus):</th> <td> 0.000</td>  <th>  Jarque-Bera (JB):  </th> <td> 524.495</td> \n",
       "</tr>\n",
       "<tr>\n",
       "  <th>Skew:</th>          <td> 0.941</td>  <th>  Prob(JB):          </th> <td>1.28e-114</td>\n",
       "</tr>\n",
       "<tr>\n",
       "  <th>Kurtosis:</th>      <td> 4.488</td>  <th>  Cond. No.          </th> <td>1.01e+04</td> \n",
       "</tr>\n",
       "</table><br/><br/>Warnings:<br/>[1] Standard Errors assume that the covariance matrix of the errors is correctly specified.<br/>[2] The condition number is large, 1.01e+04. This might indicate that there are<br/>strong multicollinearity or other numerical problems."
      ],
      "text/plain": [
       "<class 'statsmodels.iolib.summary.Summary'>\n",
       "\"\"\"\n",
       "                            OLS Regression Results                            \n",
       "==============================================================================\n",
       "Dep. Variable:             closeIndex   R-squared:                       0.002\n",
       "Model:                            OLS   Adj. R-squared:                  0.001\n",
       "Method:                 Least Squares   F-statistic:                     2.297\n",
       "Date:                Wed, 24 Jul 2019   Prob (F-statistic):              0.101\n",
       "Time:                        00:32:40   Log-Likelihood:                -17971.\n",
       "No. Observations:                2187   AIC:                         3.595e+04\n",
       "Df Residuals:                    2184   BIC:                         3.597e+04\n",
       "Df Model:                           2                                         \n",
       "Covariance Type:            nonrobust                                         \n",
       "==============================================================================\n",
       "                 coef    std err          t      P>|t|      [0.025      0.975]\n",
       "------------------------------------------------------------------------------\n",
       "intercept   2789.4726     19.227    145.082      0.000    2751.768    2827.178\n",
       "CHG            2.2397      1.063      2.107      0.035       0.155       4.325\n",
       "CHGPct     -6259.6110   3328.724     -1.880      0.060   -1.28e+04     268.185\n",
       "==============================================================================\n",
       "Omnibus:                      311.886   Durbin-Watson:                   0.005\n",
       "Prob(Omnibus):                  0.000   Jarque-Bera (JB):              524.495\n",
       "Skew:                           0.941   Prob(JB):                    1.28e-114\n",
       "Kurtosis:                       4.488   Cond. No.                     1.01e+04\n",
       "==============================================================================\n",
       "\n",
       "Warnings:\n",
       "[1] Standard Errors assume that the covariance matrix of the errors is correctly specified.\n",
       "[2] The condition number is large, 1.01e+04. This might indicate that there are\n",
       "strong multicollinearity or other numerical problems.\n",
       "\"\"\""
      ]
     },
     "execution_count": 296,
     "metadata": {},
     "output_type": "execute_result"
    }
   ],
   "source": [
    "#观察CHG对closeIndex的影响\n",
    "df['intercept'] = 1\n",
    "lm = sm.OLS(df['closeIndex'],df[['intercept','CHG','CHGPct']])\n",
    "result = lm.fit()\n",
    "result.summary()"
   ]
  },
  {
   "cell_type": "code",
   "execution_count": 297,
   "metadata": {},
   "outputs": [
    {
     "data": {
      "text/html": [
       "<table class=\"simpletable\">\n",
       "<caption>OLS Regression Results</caption>\n",
       "<tr>\n",
       "  <th>Dep. Variable:</th>       <td>closeIndex</td>    <th>  R-squared:         </th> <td>   0.025</td> \n",
       "</tr>\n",
       "<tr>\n",
       "  <th>Model:</th>                   <td>OLS</td>       <th>  Adj. R-squared:    </th> <td>   0.024</td> \n",
       "</tr>\n",
       "<tr>\n",
       "  <th>Method:</th>             <td>Least Squares</td>  <th>  F-statistic:       </th> <td>   18.85</td> \n",
       "</tr>\n",
       "<tr>\n",
       "  <th>Date:</th>             <td>Wed, 24 Jul 2019</td> <th>  Prob (F-statistic):</th> <td>4.51e-12</td> \n",
       "</tr>\n",
       "<tr>\n",
       "  <th>Time:</th>                 <td>00:32:43</td>     <th>  Log-Likelihood:    </th> <td> -17946.</td> \n",
       "</tr>\n",
       "<tr>\n",
       "  <th>No. Observations:</th>      <td>  2187</td>      <th>  AIC:               </th> <td>3.590e+04</td>\n",
       "</tr>\n",
       "<tr>\n",
       "  <th>Df Residuals:</th>          <td>  2183</td>      <th>  BIC:               </th> <td>3.592e+04</td>\n",
       "</tr>\n",
       "<tr>\n",
       "  <th>Df Model:</th>              <td>     3</td>      <th>                     </th>     <td> </td>    \n",
       "</tr>\n",
       "<tr>\n",
       "  <th>Covariance Type:</th>      <td>nonrobust</td>    <th>                     </th>     <td> </td>    \n",
       "</tr>\n",
       "</table>\n",
       "<table class=\"simpletable\">\n",
       "<tr>\n",
       "       <td></td>          <th>coef</th>     <th>std err</th>      <th>t</th>      <th>P>|t|</th>  <th>[0.025</th>    <th>0.975]</th>  \n",
       "</tr>\n",
       "<tr>\n",
       "  <th>intercept</th>   <td> 2613.1738</td> <td>   30.993</td> <td>   84.315</td> <td> 0.000</td> <td> 2552.395</td> <td> 2673.953</td>\n",
       "</tr>\n",
       "<tr>\n",
       "  <th>turnoverVol</th> <td>  2.55e-08</td> <td> 3.54e-09</td> <td>    7.202</td> <td> 0.000</td> <td> 1.86e-08</td> <td> 3.24e-08</td>\n",
       "</tr>\n",
       "<tr>\n",
       "  <th>CHG</th>         <td>    2.2565</td> <td>    1.051</td> <td>    2.147</td> <td> 0.032</td> <td>    0.195</td> <td>    4.318</td>\n",
       "</tr>\n",
       "<tr>\n",
       "  <th>CHGPct</th>      <td>-7121.0418</td> <td> 3292.800</td> <td>   -2.163</td> <td> 0.031</td> <td>-1.36e+04</td> <td> -663.691</td>\n",
       "</tr>\n",
       "</table>\n",
       "<table class=\"simpletable\">\n",
       "<tr>\n",
       "  <th>Omnibus:</th>       <td>405.067</td> <th>  Durbin-Watson:     </th> <td>   0.010</td> \n",
       "</tr>\n",
       "<tr>\n",
       "  <th>Prob(Omnibus):</th> <td> 0.000</td>  <th>  Jarque-Bera (JB):  </th> <td> 766.491</td> \n",
       "</tr>\n",
       "<tr>\n",
       "  <th>Skew:</th>          <td> 1.125</td>  <th>  Prob(JB):          </th> <td>3.62e-167</td>\n",
       "</tr>\n",
       "<tr>\n",
       "  <th>Kurtosis:</th>      <td> 4.830</td>  <th>  Cond. No.          </th> <td>1.53e+12</td> \n",
       "</tr>\n",
       "</table><br/><br/>Warnings:<br/>[1] Standard Errors assume that the covariance matrix of the errors is correctly specified.<br/>[2] The condition number is large, 1.53e+12. This might indicate that there are<br/>strong multicollinearity or other numerical problems."
      ],
      "text/plain": [
       "<class 'statsmodels.iolib.summary.Summary'>\n",
       "\"\"\"\n",
       "                            OLS Regression Results                            \n",
       "==============================================================================\n",
       "Dep. Variable:             closeIndex   R-squared:                       0.025\n",
       "Model:                            OLS   Adj. R-squared:                  0.024\n",
       "Method:                 Least Squares   F-statistic:                     18.85\n",
       "Date:                Wed, 24 Jul 2019   Prob (F-statistic):           4.51e-12\n",
       "Time:                        00:32:43   Log-Likelihood:                -17946.\n",
       "No. Observations:                2187   AIC:                         3.590e+04\n",
       "Df Residuals:                    2183   BIC:                         3.592e+04\n",
       "Df Model:                           3                                         \n",
       "Covariance Type:            nonrobust                                         \n",
       "===============================================================================\n",
       "                  coef    std err          t      P>|t|      [0.025      0.975]\n",
       "-------------------------------------------------------------------------------\n",
       "intercept    2613.1738     30.993     84.315      0.000    2552.395    2673.953\n",
       "turnoverVol   2.55e-08   3.54e-09      7.202      0.000    1.86e-08    3.24e-08\n",
       "CHG             2.2565      1.051      2.147      0.032       0.195       4.318\n",
       "CHGPct      -7121.0418   3292.800     -2.163      0.031   -1.36e+04    -663.691\n",
       "==============================================================================\n",
       "Omnibus:                      405.067   Durbin-Watson:                   0.010\n",
       "Prob(Omnibus):                  0.000   Jarque-Bera (JB):              766.491\n",
       "Skew:                           1.125   Prob(JB):                    3.62e-167\n",
       "Kurtosis:                       4.830   Cond. No.                     1.53e+12\n",
       "==============================================================================\n",
       "\n",
       "Warnings:\n",
       "[1] Standard Errors assume that the covariance matrix of the errors is correctly specified.\n",
       "[2] The condition number is large, 1.53e+12. This might indicate that there are\n",
       "strong multicollinearity or other numerical problems.\n",
       "\"\"\""
      ]
     },
     "execution_count": 297,
     "metadata": {},
     "output_type": "execute_result"
    }
   ],
   "source": [
    "#观察CHG,turnoverVol对closeIndex的影响\n",
    "df['intercept'] = 1\n",
    "lm = sm.OLS(df['closeIndex'],df[['intercept','turnoverVol','CHG','CHGPct']])\n",
    "result = lm.fit()\n",
    "result.summary()"
   ]
  },
  {
   "cell_type": "code",
   "execution_count": 298,
   "metadata": {},
   "outputs": [
    {
     "name": "stdout",
     "output_type": "stream",
     "text": [
      "      closeIndex  highestIndex  lowestIndex  turnoverVol  intercept\n",
      "0        1056.62       1057.69      1049.64   1942573000          1\n",
      "1        1038.67       1056.05      1034.68   2487786100          1\n",
      "2        1041.68       1043.42      1029.56   2120053900          1\n",
      "3        1038.87       1044.42      1036.11   1787096300          1\n",
      "4        1014.97       1037.98      1013.14   1933651600          1\n",
      "5        1009.27       1014.97       999.93   1746305500          1\n",
      "6        1004.34       1010.91      1002.20   1273509900          1\n",
      "7        1008.90       1011.76      1004.69   1188798300          1\n",
      "8        1019.86       1020.88      1008.51   1176591100          1\n",
      "9        1018.27       1021.65      1012.11   1134803000          1\n",
      "10       1028.96       1028.97      1017.08   1484206800          1\n",
      "11       1027.62       1029.81      1025.52   1478433900          1\n",
      "12       1024.02       1029.56      1021.08   1500192400          1\n",
      "13       1037.66       1037.91      1019.65   1538991200          1\n",
      "14       1040.76       1047.05      1036.24   1907766200          1\n",
      "15       1047.67       1047.94      1036.71   1864057500          1\n",
      "16       1048.54       1049.32      1042.82   2046788500          1\n",
      "17       1042.60       1051.76      1041.23   2009823700          1\n",
      "18       1050.71       1050.71      1037.08   1713407000          1\n",
      "19       1055.98       1056.52      1048.64   2227399900          1\n",
      "20       1065.29       1074.04      1057.68   3052634500          1\n",
      "21       1055.63       1067.99      1055.14   2201249400          1\n",
      "22       1061.09       1061.47      1050.22   2227619000          1\n",
      "23       1079.32       1079.37      1061.96   2772976100          1\n",
      "24       1089.37       1089.37      1076.20   3114875700          1\n",
      "25       1099.97       1100.56      1089.55   3293691400          1\n",
      "26       1103.24       1109.68      1097.32   3616704900          1\n",
      "27       1103.15       1105.10      1091.89   3257086000          1\n",
      "28       1117.91       1118.08      1100.69   3206752000          1\n",
      "29       1123.31       1126.09      1112.01   3560752000          1\n",
      "...          ...           ...          ...          ...        ...\n",
      "2157     3513.58       3560.53      3461.32  26656717500          1\n",
      "2158     3514.04       3550.16      3494.77  18715396500          1\n",
      "2159     3502.42       3547.24      3471.56  19601251000          1\n",
      "2160     3604.12       3604.12      3482.27  23781233800          1\n",
      "2161     3635.15       3662.16      3601.26  28268161400          1\n",
      "2162     3355.16       3497.25      3330.98  32950527500          1\n",
      "2163     3396.22       3419.20      3325.68  29784323200          1\n",
      "2164     3548.89       3557.79      3409.43  33792821000          1\n",
      "2165     3567.61       3576.76      3520.05  26885359900          1\n",
      "2166     3571.73       3627.81      3548.63  28017217200          1\n",
      "2167     3607.99       3611.62      3559.38  23976620300          1\n",
      "2168     3574.93       3616.26      3510.02  28766917900          1\n",
      "2169     3525.32       3583.31      3512.39  21622021400          1\n",
      "2170     3481.80       3505.58      3453.90  21161886000          1\n",
      "2171     3434.39       3514.22      3431.94  19647915700          1\n",
      "2172     3353.96       3407.26      3347.09  19518369900          1\n",
      "2173     3437.45       3441.71      3360.72  19284609600          1\n",
      "2174     3401.77       3476.82      3399.57  19130434900          1\n",
      "2175     3366.95       3487.95      3366.86  25043060900          1\n",
      "2176     3312.42       3374.05      3285.94  19266418600          1\n",
      "2177     3345.92       3376.53      3298.60  17235382000          1\n",
      "2178     3406.94       3407.18      3339.55  15930908800          1\n",
      "2179     3434.12       3445.66      3412.14  14461377200          1\n",
      "2180     3442.87       3453.58      3405.63  15608169100          1\n",
      "2181     3469.83       3509.51      3452.08  20108997100          1\n",
      "2182     3499.48       3504.48      3466.61  16564134300          1\n",
      "2183     3522.32       3536.82      3511.09  16532831300          1\n",
      "2184     3478.73       3529.55      3463.96  16553935100          1\n",
      "2185     3566.30       3569.33      3456.87  22932843800          1\n",
      "2186     3572.84       3594.81      3560.46  22278643800          1\n",
      "\n",
      "[2187 rows x 5 columns]\n"
     ]
    }
   ],
   "source": [
    "#预测forecast_out天后的\n",
    "forecast_out = 20\n",
    "\n",
    "df_new = df.copy()\n",
    "df_new = df.drop(df.columns[[0,5,6]],axis = 1)\n",
    "\n",
    "print(df_new)\n",
    "\n",
    "\n",
    "df_new['lable'] = df_new['closeIndex'].shift(-forecast_out)\n",
    "\n",
    "X = np.array(df_new.drop(['lable'], axis = 1))\n",
    "\n",
    "X_lately = X[-forecast_out:]\n",
    "X = X[:-forecast_out]\n",
    "\n",
    "df_new.dropna(inplace = True)\n",
    "y = np.array(df_new['lable'])"
   ]
  },
  {
   "cell_type": "markdown",
   "metadata": {},
   "source": [
    "**(你的回答)**\n",
    "若是去掉CHG指数等变量，还是能够很好的预测股票收盘指数，收盘指数closeindex约99.9%与highestindex、lowestindex和turnoverVol有关。\n",
    "\n",
    "考虑到closeIndex与highestIndex和lowestIndex之间存在较大的多重共线性，所以可以除去lowestIndex\n",
    "\n",
    "在线性模型中，closeindex与CHG,CHGPct这两个变量的R平方系数只有0.002,说明关系不大，可以忽略它们的影响。\n",
    "在加入turnoverVol变量后，R平方系数增大为0.025，说明turnoverVol对收盘指数还是有一定影响的，不能被忽视。\n",
    "\n",
    "去掉空值后，可以预测出forecast_out天后的closeindex值，用于预测股票指数的走势。"
   ]
  },
  {
   "cell_type": "markdown",
   "metadata": {},
   "source": [
    "---\n",
    "<a id=\"result\"></a>\n",
    "## IV. 结果\n",
    "经过前面的几步，你已经训练好了自己的模型并计算出了一些结果。这一节，你需要对这些进行讨论与分析\n",
    "\n",
    "### 模型的评价与验证\n",
    "在这一部分，你需要对你得出的最终模型的各种技术质量进行详尽的评价。最终模型是怎么得出来的，为什么它会被选为最佳需要清晰地描述。你也需要对模型和结果可靠性作出验证分析，譬如对输入数据或环境的一些操控是否会对结果产生影响（敏感性分析sensitivity analysis）。一些需要考虑的问题：\n",
    "- _最终的模型是否合理，跟期待的结果是否一致？最后的各种参数是否合理？_\n",
    "- _模型是否对于这个问题是否足够稳健可靠？训练数据或输入的一些微小的改变是否会极大影响结果？（鲁棒性）_\n",
    "- _这个模型得出的结果是否可信？_\n",
    "\n"
   ]
  },
  {
   "cell_type": "code",
   "execution_count": 305,
   "metadata": {},
   "outputs": [
    {
     "name": "stdout",
     "output_type": "stream",
     "text": [
      "predict:{1.0: 3714.622229633362, 2.0: 3742.235375426254, 3.0: 3613.812918388856, 4.0: 3569.1275321355174, 5.0: 3513.206626986618, 6.0: 3434.293492524904, 7.0: 3530.663948116288, 8.0: 3477.5554841630346, 9.0: 3506.516957930989, 10.0: 3405.117844889876, 11.0: 3420.95398655047, 12.0: 3468.1573246366775, 13.0: 3461.479139682254, 14.0: 3486.496291750312, 15.0: 3547.815317938814, 16.0: 3543.4140295197503, 17.0: 3556.0658482924287, 18.0: 3526.183816627081, 19.0: 3695.8178396167123, 20.0: 3654.677687417984}\n"
     ]
    }
   ],
   "source": [
    "X_train, X_test, y_train, y_test = train_test_split(X,y, test_size=0.1, random_state=0)\n",
    "lm = LinearRegression()\n",
    "lm.fit(X_train, y_train)\n",
    "\n",
    "y_pred = lm.predict(X_lately)\n",
    "\n",
    "\n",
    "#将预测结果转化为字典，保存未来20天的股票指数\n",
    "last_date = df.iloc[-1].name\n",
    "x_day = np.linspace(1,forecast_out,forecast_out)\n",
    "\n",
    "a = np.array(x_day)\n",
    "b = np.array(y_pred)\n",
    "b = np.append(b,np.array(y_pred))\n",
    "predict = dict(zip(a,b))\n",
    "print('predict:{A}'.format(A=predict))"
   ]
  },
  {
   "cell_type": "code",
   "execution_count": 307,
   "metadata": {},
   "outputs": [
    {
     "name": "stdout",
     "output_type": "stream",
     "text": [
      "Mean squared error: 1262.51\n",
      "Variance score: 0.9987\n"
     ]
    }
   ],
   "source": [
    "#对预测结果进行评价，使用MSE与R2两个评价系数\n",
    "df_new = df.copy()\n",
    "df_new = df.drop(df.columns[[0,2,5,6]],axis = 1)\n",
    "\n",
    "X_data = df_new.drop('closeIndex', axis=1, inplace=False)\n",
    "\n",
    "X_train, X_test, y_train, y_test = train_test_split(\n",
    "                 X_data, df_new['closeIndex'], test_size=0.1, random_state=0)\n",
    "lm.fit(X_train, y_train)\n",
    "y_pred_2 = lm.predict(X_test)\n",
    "\n",
    "# 查看残差平方的均值(mean square error,MSE) \n",
    "print(\"Mean squared error: %.2f\"% mean_squared_error(y_test, y_pred_2))\n",
    "\n",
    "# R2 决定系数（拟合优度）\n",
    "# 模型越好：r2→1\n",
    "# 模型越差：r2→0\n",
    "print('Variance score: %.4f' % r2_score(y_test,y_pred_2))"
   ]
  },
  {
   "cell_type": "markdown",
   "metadata": {},
   "source": [
    "**(你的回答)**\n",
    "模型主要从highest、lowestindex和closeindex三个数据进行预测，得出了未来20天的股票指数的走势。\n",
    "\n",
    "在评价后，发现均方差的值为1262.51,相对于股票指数平均几千的值来说，已经比较小了。\n",
    "而系数R2表示了数据的拟合程度，0.9987的值很接近于1,是比较理想的。\n",
    "从上述两个评价系数的表现，得知股票的走势的结果还是比较可信的。\n"
   ]
  },
  {
   "cell_type": "markdown",
   "metadata": {},
   "source": [
    "---\n",
    "<a id=\"conclusion\"></a>\n",
    "## V. 项目结论\n",
    "这一节中，我们将对整个项目做出总结\n",
    "\n",
    "\n",
    "### 结果可视化\n",
    "在这一部分，你需要用可视化的方式展示项目中需要强调的重要技术特性。至于什么形式，你可以自由把握，但需要表达出一个关于这个项目重要的结论和特点，并对此作出讨论。一些需要考虑的：\n",
    "- _你是否对一个与问题，数据集，输入数据，或结果相关的，重要的技术特性进行了可视化？_\n",
    "- _可视化结果是否详尽的分析讨论了？_\n",
    "- _绘图的坐标轴，标题，基准面是不是清晰定义了？_\n",
    "\n",
    "\n",
    "### 对项目的思考\n",
    "在这一部分，你需要从头到尾总结一下整个问题的解决方案，讨论其中你认为有趣或困难的地方。从整体来反思一下整个项目，确保自己对整个流程是明确掌握的。需要考虑：\n",
    "- _你是否详尽总结了项目的整个流程？_\n",
    "- _项目里有哪些比较有意思的地方？_\n",
    "- _项目里有哪些比较困难的地方？_\n",
    "- _最终模型和结果是否符合你对这个问题的期望？它可以在通用的场景下解决这些类型的问题吗？_\n",
    "\n",
    "\n",
    "### 需要作出的改进\n",
    "在这一部分，你需要讨论你可以怎么样去完善你执行流程中的某一方面。例如考虑一下你的操作的方法是否可以进一步推广，泛化，有没有需要作出变更的地方。你并不需要确实作出这些改进，不过你应能够讨论这些改进可能对结果的影响，并与现有结果进行比较。一些需要考虑的问题：\n",
    "- _是否可以有算法和技术层面的进一步的完善？_\n",
    "- _是否有一些你了解到，但是你还没能够实践的算法和技术？_\n",
    "\n",
    "\n"
   ]
  },
  {
   "cell_type": "code",
   "execution_count": 308,
   "metadata": {},
   "outputs": [
    {
     "data": {
      "image/png": "[encoded data removed]",
      "text/plain": [
       "<Figure size 576x468 with 1 Axes>"
      ]
     },
     "metadata": {
      "needs_background": "light"
     },
     "output_type": "display_data"
    }
   ],
   "source": [
    "#画出未来有20天中收盘指数的预期变化\n",
    "plt.figure(figsize=(8, 6.5))\n",
    "plt.plot(x_day,y_pred)\n",
    "plt.scatter(x_day,y_pred)\n",
    "plt.xlabel('day')\n",
    "plt.ylabel('closeIndex')           \n",
    "plt.show()\n",
    "# 你可以自由的使用任意数量和任意格式的代码框，但请在最终提交的报告中注意报告的整洁与通顺\n"
   ]
  },
  {
   "cell_type": "markdown",
   "metadata": {},
   "source": [
    "**(你的回答)**\n",
    "画出了收盘指数在未来有20天中的走势，以折线图与散点图的方式。\n",
    "从图中可以看出，第10天的股票指数最低，而在之后第19天的收盘指数最高。\n",
    "所以应该在第10天买入，19天卖出。\n",
    "\n",
    "这次模型预测主要用了每天最高与收盘的股票指数与交易额去预测未来每天股票的收盘指数。\n",
    "而CHG指数对closeindex的影响很小，可以不考虑。每天的收盘指数与最高和最低指数的数值是差不多的，这三者的角色也是\n",
    "基本相同的，所以这次的预测主要还是用交易额与收盘指数去预测未来的股票指数。\n",
    "\n",
    "但现实中能影响股票的变量是非常多的，单纯数字上的收盘指数和交易额并不足够预测出可靠的股票走势。还有很多诸如政策影响、主力资金流动、股民的信心等等变量会对股票走势产生很大的影响。我们需要更多的数据与变量去做菜更加精确、可靠的预测。"
   ]
  },
  {
   "cell_type": "markdown",
   "metadata": {},
   "source": [
    "----------\n",
    "** 在提交之前， 问一下自己... **\n",
    "\n",
    "- 你所写的项目报告结构对比于这个模板而言足够清晰了没有？\n",
    "- 每一个部分（尤其**分析**和**方法**）是否清晰，简洁，明了？有没有存在歧义的术语和用语需要进一步说明的？\n",
    "- 你的目标读者是不是能够明白你的分析，方法和结果？\n",
    "- 报告里面是否有语法错误或拼写错误？\n",
    "- 报告里提到的一些外部资料及来源是不是都正确引述或引用了？\n",
    "- 代码可读性是否良好？必要的注释是否加上了？\n",
    "- 代码是否可以顺利运行并重现跟报告相似的结果？"
   ]
  }
 ],
 "metadata": {
  "kernelspec": {
   "display_name": "Python 3",
   "language": "python",
   "name": "python3"
  },
  "language_info": {
   "codemirror_mode": {
    "name": "ipython",
    "version": 3
   },
   "file_extension": ".py",
   "mimetype": "text/x-python",
   "name": "python",
   "nbconvert_exporter": "python",
   "pygments_lexer": "ipython3",
   "version": "3.5.2"
  }
 },
 "nbformat": 4,
 "nbformat_minor": 2
}
